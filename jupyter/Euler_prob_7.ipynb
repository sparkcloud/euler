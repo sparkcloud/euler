{
 "cells": [
  {
   "cell_type": "markdown",
   "metadata": {},
   "source": [
    "# 10,001st prime\n",
    "## Problem 7\n",
    "\n",
    "By listing the first six prime numbers: 2, 3, 5, 7, 11, and 13, we can see that the 6th prime is 13\n",
    "What is the 10001st prime number?"
   ]
  },
  {
   "cell_type": "code",
   "execution_count": 25,
   "metadata": {},
   "outputs": [
    {
     "data": {
      "text/plain": [
       "104743"
      ]
     },
     "execution_count": 25,
     "metadata": {},
     "output_type": "execute_result"
    }
   ],
   "source": [
    "def prime(amt):\n",
    "    primes = [2]\n",
    "    num = 3\n",
    "\n",
    "    while amt > len(primes):\n",
    "        sqrtNum = int(num ** 0.5)\n",
    "        for factor in primes:\n",
    "            #print(f\"{num}__{prime}\")\n",
    "            #print(num % prime)\n",
    "            if num % factor == 0:\n",
    "                break\n",
    "            #print(f\"{num}||{sqrtNum}\")\n",
    "            if factor > sqrtNum:\n",
    "                primes.append(num)\n",
    "                break\n",
    "        num += 1\n",
    "    \n",
    "    return primes\n",
    "\n",
    "amt = 10001\n",
    "primes = prime(amt)\n",
    "primes.pop()"
   ]
  }
 ],
 "metadata": {
  "kernelspec": {
   "display_name": "Python 3",
   "language": "python",
   "name": "python3"
  },
  "language_info": {
   "codemirror_mode": {
    "name": "ipython",
    "version": 3
   },
   "file_extension": ".py",
   "mimetype": "text/x-python",
   "name": "python",
   "nbconvert_exporter": "python",
   "pygments_lexer": "ipython3",
   "version": "3.13.2"
  }
 },
 "nbformat": 4,
 "nbformat_minor": 2
}
